{
  "nbformat": 4,
  "nbformat_minor": 0,
  "metadata": {
    "colab": {
      "provenance": [],
      "authorship_tag": "ABX9TyPEe/ARcJS+L1BEd3WzX944",
      "include_colab_link": true
    },
    "kernelspec": {
      "name": "python3",
      "display_name": "Python 3"
    },
    "language_info": {
      "name": "python"
    }
  },
  "cells": [
    {
      "cell_type": "markdown",
      "metadata": {
        "id": "view-in-github",
        "colab_type": "text"
      },
      "source": [
        "<a href=\"https://colab.research.google.com/github/moshehaimlevi/numpy.repo/blob/main/numpy3%2Bp.ipynb\" target=\"_parent\"><img src=\"https://colab.research.google.com/assets/colab-badge.svg\" alt=\"Open In Colab\"/></a>"
      ]
    },
    {
      "cell_type": "code",
      "execution_count": 7,
      "metadata": {
        "id": "hTKN5_-xZEEU",
        "colab": {
          "base_uri": "https://localhost:8080/",
          "height": 503
        },
        "outputId": "2219cafa-4111-4005-b55c-a221723638f3"
      },
      "outputs": [
        {
          "output_type": "display_data",
          "data": {
            "text/plain": [
              "array([[48, 61, 39, 84],\n",
              "       [11, 51,  4, 87],\n",
              "       [24, 16, 82,  6],\n",
              "       [65, 10, 93, 43]])"
            ]
          },
          "metadata": {}
        },
        {
          "output_type": "stream",
          "name": "stdout",
          "text": [
            "\n",
            "SUM axis=0 columns:\n",
            " [148 138 218 220]\n",
            "\n",
            "SUM axis=1 rows:   \n",
            " [232 153 128 211]\n",
            "\n",
            "AVG axis=0 columns:\n",
            " [37.  34.5 54.5 55. ]\n",
            "\n",
            "AVG axis=1 rows:   \n",
            " [58.   38.25 32.   52.75]\n",
            "\n",
            "MIN axis=0 columns:\n",
            " [37.  34.5 54.5 55. ]\n",
            "\n",
            "MIN axis=1 rows:   \n",
            " [58.   38.25 32.   52.75]\n",
            "\n",
            "MAX axis=0 columns:\n",
            " [65 61 93 87]\n",
            "\n",
            "MAX axis=1 rows:   \n",
            " [84 87 82 93]\n"
          ]
        }
      ],
      "source": [
        "import numpy as np\n",
        "from IPython.display import display\n",
        "\n",
        "########################### SECTION NUMBER 1 ###########################\n",
        "\n",
        "###################### SECTION A:\n",
        "np.random.seed(80)\n",
        "rand_array = np.random.randint(1, 100, [4, 4])\n",
        "display(rand_array)\n",
        "###################### SECTION B:\n",
        "\n",
        "print('\\nSUM axis=0 columns:\\n', rand_array.sum(axis=0))\n",
        "print('\\nSUM axis=1 rows:   \\n',rand_array.sum(axis=1))\n",
        "\n",
        "###################### SECTION C:\n",
        "print('\\nAVG axis=0 columns:\\n', rand_array.mean(axis=0))\n",
        "print('\\nAVG axis=1 rows:   \\n',rand_array.mean(axis=1))\n",
        "\n",
        "print('\\nMIN axis=0 columns:\\n', rand_array.mean(axis=0))\n",
        "print('\\nMIN axis=1 rows:   \\n',rand_array.mean(axis=1))\n",
        "\n",
        "print('\\nMAX axis=0 columns:\\n', rand_array.max(axis=0))\n",
        "print('\\nMAX axis=1 rows:   \\n',rand_array.max(axis=1))\n",
        "\n",
        "\n",
        "\n",
        "\n"
      ]
    },
    {
      "cell_type": "code",
      "source": [
        "############# PANDAS ###############\n",
        "########################### SECTION NUMBER 2 ###########################\n",
        "import numpy as np\n",
        "from IPython.display import display\n",
        "import pandas as pd\n",
        "\n",
        "new_games = {\n",
        "\"Final Fantasy VII Rebirth\": 69.99,\n",
        "\"Astro Bot\": 59.99,\n",
        "\"Star Wars Outlaws\": 69.99,\n",
        "\"Silent Hill 2 Remake\": 69.99,\n",
        "\"Elden Ring: Shadow of the Erdtree\": 39.99,\n",
        "\"Dragon Age: The Veilguard\": 69.99,\n",
        "\"Metaphor: ReFantazio\": 59.99\n",
        "}\n",
        "\n",
        "\n",
        "games_dict = pd.Series(new_games)\n",
        "print(games_dict)\n",
        "print()\n",
        "###################### SECTION A:\n",
        "\n",
        "display('the retail price of Metaphor: ReFantazio is:', games_dict['Metaphor: ReFantazio'])\n",
        "print()\n",
        "###################### SECTION B:\n",
        "print(games_dict.keys())\n",
        "print()\n",
        "\n",
        "###################### SECTION C:\n",
        "display('the price in index 3 is',games_dict.iloc[3])\n",
        "print()\n",
        "\n",
        "###################### SECTION D:\n",
        "print(\"value of all\",games_dict.values.sum())\n",
        "print()\n",
        "\n",
        "\n"
      ],
      "metadata": {
        "colab": {
          "base_uri": "https://localhost:8080/",
          "height": 401
        },
        "id": "k3GRohLc2Nvz",
        "outputId": "d7114fe3-56df-4f3f-870a-a52f5fc433da"
      },
      "execution_count": 29,
      "outputs": [
        {
          "output_type": "stream",
          "name": "stdout",
          "text": [
            "Final Fantasy VII Rebirth            69.99\n",
            "Astro Bot                            59.99\n",
            "Star Wars Outlaws                    69.99\n",
            "Silent Hill 2 Remake                 69.99\n",
            "Elden Ring: Shadow of the Erdtree    39.99\n",
            "Dragon Age: The Veilguard            69.99\n",
            "Metaphor: ReFantazio                 59.99\n",
            "dtype: float64\n",
            "\n"
          ]
        },
        {
          "output_type": "display_data",
          "data": {
            "text/plain": [
              "'the retail price of Metaphor: ReFantazio is:'"
            ],
            "application/vnd.google.colaboratory.intrinsic+json": {
              "type": "string"
            }
          },
          "metadata": {}
        },
        {
          "output_type": "display_data",
          "data": {
            "text/plain": [
              "59.99"
            ]
          },
          "metadata": {}
        },
        {
          "output_type": "stream",
          "name": "stdout",
          "text": [
            "\n",
            "Index(['Final Fantasy VII Rebirth', 'Astro Bot', 'Star Wars Outlaws',\n",
            "       'Silent Hill 2 Remake', 'Elden Ring: Shadow of the Erdtree',\n",
            "       'Dragon Age: The Veilguard', 'Metaphor: ReFantazio'],\n",
            "      dtype='object')\n",
            "\n"
          ]
        },
        {
          "output_type": "display_data",
          "data": {
            "text/plain": [
              "'the price in index 3 is'"
            ],
            "application/vnd.google.colaboratory.intrinsic+json": {
              "type": "string"
            }
          },
          "metadata": {}
        },
        {
          "output_type": "display_data",
          "data": {
            "text/plain": [
              "69.99"
            ]
          },
          "metadata": {}
        },
        {
          "output_type": "stream",
          "name": "stdout",
          "text": [
            "\n",
            "value of all 439.93\n",
            "\n"
          ]
        }
      ]
    }
  ]
}