{
  "nbformat": 4,
  "nbformat_minor": 0,
  "metadata": {
    "colab": {
      "provenance": [],
      "authorship_tag": "ABX9TyN1dTlFyzq+gU4pPP4yaplC",
      "include_colab_link": true
    },
    "kernelspec": {
      "name": "python3",
      "display_name": "Python 3"
    },
    "language_info": {
      "name": "python"
    }
  },
  "cells": [
    {
      "cell_type": "markdown",
      "metadata": {
        "id": "view-in-github",
        "colab_type": "text"
      },
      "source": [
        "<a href=\"https://colab.research.google.com/github/moshehaimlevi/numpy.repo/blob/main/numpy2.ipynb\" target=\"_parent\"><img src=\"https://colab.research.google.com/assets/colab-badge.svg\" alt=\"Open In Colab\"/></a>"
      ]
    },
    {
      "cell_type": "code",
      "source": [],
      "metadata": {
        "id": "1Cv8YjyZa30x"
      },
      "execution_count": null,
      "outputs": []
    },
    {
      "cell_type": "code",
      "execution_count": 3,
      "metadata": {
        "colab": {
          "base_uri": "https://localhost:8080/",
          "height": 312
        },
        "id": "ZHEcuhZaePPq",
        "outputId": "d84677d3-9ffc-4282-876a-eed0077050fa"
      },
      "outputs": [
        {
          "output_type": "display_data",
          "data": {
            "text/plain": [
              "array([ 1,  2,  3,  4,  5,  6,  7,  8,  9, 10, 11, 12, 13, 14, 15, 16])"
            ]
          },
          "metadata": {}
        },
        {
          "output_type": "display_data",
          "data": {
            "text/plain": [
              "array([[ 1,  2,  3,  4],\n",
              "       [ 5,  6,  7,  8],\n",
              "       [ 9, 10, 11, 12],\n",
              "       [13, 14, 15, 16]])"
            ]
          },
          "metadata": {}
        },
        {
          "output_type": "display_data",
          "data": {
            "text/plain": [
              "array([10, 15, 20, 25, 30, 35, 40, 45])"
            ]
          },
          "metadata": {}
        },
        {
          "output_type": "display_data",
          "data": {
            "text/plain": [
              "array([[10, 15, 20, 25],\n",
              "       [30, 35, 40, 45]])"
            ]
          },
          "metadata": {}
        },
        {
          "output_type": "stream",
          "name": "stdout",
          "text": [
            "[[83 40 73]\n",
            " [54 31 76]\n",
            " [91 39 90]]\n",
            "max 91\n",
            "min 31\n",
            "shape (3, 3)\n"
          ]
        },
        {
          "output_type": "display_data",
          "data": {
            "text/plain": [
              "array([0, 1, 2, 3, 4, 5, 6, 7, 8, 9])"
            ]
          },
          "metadata": {}
        },
        {
          "output_type": "display_data",
          "data": {
            "text/plain": [
              "array([0, 1, 2, 3, 4])"
            ]
          },
          "metadata": {}
        },
        {
          "output_type": "display_data",
          "data": {
            "text/plain": [
              "array([ 0,  2,  4,  6,  8, 10, 12, 14, 16, 18])"
            ]
          },
          "metadata": {}
        }
      ],
      "source": [
        "import numpy as np\n",
        "from IPython.display import display\n",
        "\n",
        "################ SECTION NUMBER 1 ################\n",
        "\n",
        "num= np.arange(1, 17)\n",
        "display(num)\n",
        "num.resize(4, 4)\n",
        "display(num)\n",
        "\n",
        "################ SECTION NUMBER 2 ################\n",
        "\n",
        "num1= np.arange(10, 50, 5)\n",
        "display(num1)\n",
        "\n",
        "reshape_num1=num1.reshape(2, 4)\n",
        "display(reshape_num1)\n",
        "\n",
        "################ SECTION NUMBER 3 ################\n",
        "np.random.seed(23)\n",
        "rand_array = np.random.randint(0, 100, (3, 3))\n",
        "print(rand_array)\n",
        "print('max', rand_array.max())  # max\n",
        "print('min', rand_array.min())  # min\n",
        "print('shape', rand_array.shape)\n",
        "\n",
        "################ SECTION NUMBER 4 ################                  ###BONUS####\n",
        "\n",
        "num2= np.arange(0, 20)\n",
        "num2.resize(10,)\n",
        "\n",
        "display(num2)\n",
        "display(num2[:5])\n",
        "\n",
        "jump2= np.arange(0, 20, 2)\n",
        "display(jump2)\n",
        "\n",
        "descnum2 = np.arange(0, 20)\n",
        "display(descnum2 [::-1])\n",
        "\n",
        "################ SECTION NUMBER 5 ################\n",
        "\n",
        "np.random.seed(9)\n",
        "\n",
        "rand_array2 = np.random.randint(1, 50, (4, 5))\n",
        "display(rand_array2)\n",
        "display(rand_array2[:2:4])\n",
        "\n",
        "\n",
        "\n",
        "\n",
        "\n",
        "\n",
        "\n"
      ]
    }
  ]
}