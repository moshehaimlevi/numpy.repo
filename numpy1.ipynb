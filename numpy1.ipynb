{
  "nbformat": 4,
  "nbformat_minor": 0,
  "metadata": {
    "colab": {
      "provenance": [],
      "authorship_tag": "ABX9TyObXg5LAnHT/cVNTLjK6fSr",
      "include_colab_link": true
    },
    "kernelspec": {
      "name": "python3",
      "display_name": "Python 3"
    },
    "language_info": {
      "name": "python"
    }
  },
  "cells": [
    {
      "cell_type": "markdown",
      "metadata": {
        "id": "view-in-github",
        "colab_type": "text"
      },
      "source": [
        "<a href=\"https://colab.research.google.com/github/moshehaimlevi/numpy.repo/blob/main/numpy1.ipynb\" target=\"_parent\"><img src=\"https://colab.research.google.com/assets/colab-badge.svg\" alt=\"Open In Colab\"/></a>"
      ]
    },
    {
      "cell_type": "code",
      "execution_count": 43,
      "metadata": {
        "colab": {
          "base_uri": "https://localhost:8080/",
          "height": 260
        },
        "id": "-9pEVGZ7Vkv7",
        "outputId": "a3fc6582-ca13-4e65-da8b-6f5c565cacc3"
      },
      "outputs": [
        {
          "output_type": "display_data",
          "data": {
            "text/plain": [
              "array([ 0,  1,  2,  3,  4,  5,  6,  7,  8,  9, 10])"
            ]
          },
          "metadata": {}
        },
        {
          "output_type": "display_data",
          "data": {
            "text/plain": [
              "array([0.5 , 0.75, 1.  , 1.25, 1.5 , 1.75, 2.  , 2.25, 2.5 , 2.75, 3.  ,\n",
              "       3.25, 3.5 , 3.75, 4.  , 4.25, 4.5 , 4.75, 5.  ])"
            ]
          },
          "metadata": {}
        },
        {
          "output_type": "stream",
          "name": "stdout",
          "text": [
            "[0 0 0 0 0 0 0 0 0 0]\n",
            "[[0. 0. 0. 0.]\n",
            " [0. 0. 0. 0.]\n",
            " [0. 0. 0. 0.]]\n",
            "[ 2  4  7  9 12]\n",
            "[3 5 7 9]\n",
            "[[0.37454012 0.95071431 0.73199394 0.59865848]\n",
            " [0.15601864 0.15599452 0.05808361 0.86617615]]\n"
          ]
        },
        {
          "output_type": "execute_result",
          "data": {
            "text/plain": [
              "array([[16, 13, 17],\n",
              "       [14, 16, 19],\n",
              "       [12, 16, 17]])"
            ]
          },
          "metadata": {},
          "execution_count": 43
        }
      ],
      "source": [
        "import numpy as np\n",
        "from IPython.display import display\n",
        "\n",
        "############################## SECTION NUMBER 1 ##############################\n",
        "num= np.arange(0, 10 +1)\n",
        "display(num)\n",
        "num1= np.arange(0.5, 5+ 0.1, 0.25)\n",
        "display(num1)\n",
        "\n",
        "############################## SECTION NUMBER 2 ##############################\n",
        "print(np.zeros(10, dtype=int))\n",
        "\n",
        "print(np.zeros((3, 4)))\n",
        "\n",
        "############################## SECTION NUMBER 3 ##############################\n",
        "print(np.linspace(2, 12, 5, dtype=int))\n",
        "\n",
        "print(np.linspace(3, 9, 4, dtype=int))\n",
        "\n",
        "############################## SECTION NUMBER 4 ##############################\n",
        "np.random.seed(42)\n",
        "randy = np.random.rand(2,4)\n",
        "print(randy)\n",
        "\n",
        "np.random.seed(42)\n",
        "np.random.randint(10, 20, (3,3))\n",
        "\n",
        "\n",
        "\n",
        "\n",
        "\n",
        "\n",
        "\n"
      ]
    }
  ]
}